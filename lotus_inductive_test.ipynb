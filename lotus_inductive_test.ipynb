{
 "cells": [
  {
   "cell_type": "code",
   "execution_count": null,
   "metadata": {},
   "outputs": [],
   "source": [
    "#point to local path for lotus package directory\n",
    "import sys\n",
    "sys.path.append(r'C:\\Users\\Kingdel\\Documents\\GitHub')\n",
    "\n",
    "from lotus import * #bulk import statement to import standard and custom libraries"
   ]
  },
  {
   "cell_type": "code",
   "execution_count": null,
   "metadata": {},
   "outputs": [],
   "source": [
    "#dmm serial port setup\n",
    "ser=serial.Serial('COM3',timeout=3.0)\n",
    "ser.flushInput()\n",
    "\n",
    "#experimentally determined gain factor\n",
    "lpt_gain=0.000595 #inches per ohm"
   ]
  },
  {
   "cell_type": "code",
   "execution_count": null,
   "metadata": {},
   "outputs": [],
   "source": [
    "num_pts=100\n",
    "lcr_df=lcr_sweep(num_pts)   \n",
    "\n",
    "plot_sweep(lcr_df)\n",
    "lcr_df.head(5)"
   ]
  },
  {
   "cell_type": "code",
   "execution_count": null,
   "metadata": {},
   "outputs": [],
   "source": [
    "rm,E4980AL=lcr_init()\n",
    "\n",
    "freq=3000 #test frequency, in Hz\n",
    "\n",
    "E4980AL.write(':FREQuency %f' % (freq))"
   ]
  },
  {
   "cell_type": "code",
   "execution_count": null,
   "metadata": {},
   "outputs": [],
   "source": [
    "interrupt=False #variable to control data loop\n",
    "data=pd.DataFrame([],columns=['posn(in)','output(uH)','res(ohm)']) #blank dataframe to hold data\n",
    "\n",
    "#setup plot\n",
    "p1=figure(plot_width=650,plot_height=350)\n",
    "t=show(p1,notebook_handle=True)\n",
    "\n",
    "button=widgets.Button(description='start data logging')\n",
    "display(button)\n",
    "\n",
    "def when_clicked(b): #ugly hack to get real-time datalogging\n",
    "    def get_data():\n",
    "        global interrupt\n",
    "        global data\n",
    "        while not interrupt:     \n",
    "                \n",
    "                #potentiometer resistance\n",
    "                cmd='READ?'\n",
    "                res=dmm_cmd(cmd,ser,0.1)\n",
    "                res=float(res.strip()) \n",
    "                x=res*lpt_gain\n",
    "                \n",
    "                # sensor voltage\n",
    "                Ls,Rs=lcr_data(E4980AL)\n",
    "                y = Ls*1e6\n",
    "                              \n",
    "                data.loc[len(data)]=[x,y,Rs]           \n",
    "                r1=p1.circle(x,y,size=7)\n",
    "                push_notebook(handle=t)\n",
    "\n",
    "#                 time.sleep(0.5)\n",
    "    thread = threading.Thread(target=get_data)\n",
    "    thread.start()\n",
    "\n",
    "button.on_click(when_clicked)\n"
   ]
  },
  {
   "cell_type": "code",
   "execution_count": null,
   "metadata": {},
   "outputs": [],
   "source": [
    "output_dir=r'C:\\Users\\Kingdel\\Desktop\\data'\n",
    "os.chdir(output_dir)\n",
    "\n",
    "filename='one_inch_3B.csv'"
   ]
  },
  {
   "cell_type": "code",
   "execution_count": null,
   "metadata": {},
   "outputs": [],
   "source": [
    "button2=widgets.Button(description='stop data logging')\n",
    "display(button2)\n",
    "def stop_thread(c):\n",
    "    global interrupt\n",
    "    interrupt=True\n",
    "    \n",
    "    data.to_csv(filename)\n",
    "    lcr_df.to_csv('sweep_'+filename)\n",
    "    \n",
    "    \n",
    "button2.on_click(stop_thread)"
   ]
  },
  {
   "cell_type": "code",
   "execution_count": null,
   "metadata": {},
   "outputs": [],
   "source": [
    "filename"
   ]
  }
 ],
 "metadata": {
  "kernelspec": {
   "display_name": "Python 3",
   "language": "python",
   "name": "python3"
  },
  "language_info": {
   "codemirror_mode": {
    "name": "ipython",
    "version": 3
   },
   "file_extension": ".py",
   "mimetype": "text/x-python",
   "name": "python",
   "nbconvert_exporter": "python",
   "pygments_lexer": "ipython3",
   "version": "3.6.5"
  }
 },
 "nbformat": 4,
 "nbformat_minor": 2
}
